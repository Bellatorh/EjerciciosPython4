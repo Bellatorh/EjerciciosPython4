{
 "cells": [
  {
   "cell_type": "code",
   "execution_count": null,
   "metadata": {},
   "outputs": [
    {
     "name": "stdout",
     "output_type": "stream",
     "text": [
      "¡Bienvenido al programa 'La Palabra de 100 Puntos'!\n",
      "Introduce palabras y calcula su puntaje.\n",
      "El programa termina si introduces una palabra que sume exactamente 100 puntos.\n",
      "La palabra 'hola' tiene un puntaje de 37 puntos.\n",
      "La palabra 'casa' tiene un puntaje de 25 puntos.\n",
      "La palabra 'home' tiene un puntaje de 42 puntos.\n",
      "La palabra 'hogar' tiene un puntaje de 51 puntos.\n",
      "La palabra 'manzana' tiene un puntaje de 71 puntos.\n",
      "La palabra 'casaon' tiene un puntaje de 55 puntos.\n",
      "La palabra 'asfghwr' tiene un puntaje de 85 puntos.\n",
      "La palabra 'sdgafsge' tiene un puntaje de 70 puntos.\n",
      "La palabra 'asdasdfgr' tiene un puntaje de 82 puntos.\n",
      "La palabra 'asdfghweert' tiene un puntaje de 120 puntos.\n",
      "La palabra 'asdafgwer' tiene un puntaje de 87 puntos.\n",
      "La palabra 'asdafqwe' tiene un puntaje de 79 puntos.\n",
      "La palabra 'asdasfwqer' tiene un puntaje de 118 puntos.\n",
      "La palabra '' tiene un puntaje de 0 puntos.\n",
      "La palabra '' tiene un puntaje de 0 puntos.\n",
      "La palabra '' tiene un puntaje de 0 puntos.\n",
      "La palabra '' tiene un puntaje de 0 puntos.\n",
      "La palabra '' tiene un puntaje de 0 puntos.\n",
      "La palabra '' tiene un puntaje de 0 puntos.\n",
      "La palabra '' tiene un puntaje de 0 puntos.\n",
      "La palabra '' tiene un puntaje de 0 puntos.\n",
      "La palabra '' tiene un puntaje de 0 puntos.\n",
      "La palabra '' tiene un puntaje de 0 puntos.\n",
      "La palabra '' tiene un puntaje de 0 puntos.\n",
      "La palabra '' tiene un puntaje de 0 puntos.\n",
      "La palabra '' tiene un puntaje de 0 puntos.\n",
      "La palabra '' tiene un puntaje de 0 puntos.\n",
      "La palabra '' tiene un puntaje de 0 puntos.\n",
      "La palabra '' tiene un puntaje de 0 puntos.\n",
      "La palabra '' tiene un puntaje de 0 puntos.\n",
      "La palabra '' tiene un puntaje de 0 puntos.\n",
      "La palabra '' tiene un puntaje de 0 puntos.\n",
      "La palabra '' tiene un puntaje de 0 puntos.\n",
      "La palabra '' tiene un puntaje de 0 puntos.\n",
      "La palabra '' tiene un puntaje de 0 puntos.\n",
      "La palabra '' tiene un puntaje de 0 puntos.\n",
      "La palabra '' tiene un puntaje de 0 puntos.\n",
      "La palabra '' tiene un puntaje de 0 puntos.\n",
      "La palabra '' tiene un puntaje de 0 puntos.\n",
      "La palabra '' tiene un puntaje de 0 puntos.\n",
      "La palabra '' tiene un puntaje de 0 puntos.\n"
     ]
    },
    {
     "ename": "KeyboardInterrupt",
     "evalue": "Interrupted by user",
     "output_type": "error",
     "traceback": [
      "\u001b[1;31m---------------------------------------------------------------------------\u001b[0m",
      "\u001b[1;31mKeyboardInterrupt\u001b[0m                         Traceback (most recent call last)",
      "Cell \u001b[1;32mIn[1], line 20\u001b[0m\n\u001b[0;32m     16\u001b[0m \u001b[38;5;28mprint\u001b[39m(\u001b[38;5;124m\"\u001b[39m\u001b[38;5;124mEl programa termina si introduces una palabra que sume exactamente 100 puntos.\u001b[39m\u001b[38;5;124m\"\u001b[39m)\n\u001b[0;32m     18\u001b[0m \u001b[38;5;28;01mwhile\u001b[39;00m \u001b[38;5;28;01mTrue\u001b[39;00m:\n\u001b[0;32m     19\u001b[0m     \u001b[38;5;66;03m# Pedir al usuario que introduzca una palabra\u001b[39;00m\n\u001b[1;32m---> 20\u001b[0m     palabra \u001b[38;5;241m=\u001b[39m \u001b[38;5;28;43minput\u001b[39;49m\u001b[43m(\u001b[49m\u001b[38;5;124;43m\"\u001b[39;49m\u001b[38;5;124;43mEscribe una palabra: \u001b[39;49m\u001b[38;5;124;43m\"\u001b[39;49m\u001b[43m)\u001b[49m\u001b[38;5;241m.\u001b[39mlower()  \u001b[38;5;66;03m# Convertir a minúsculas\u001b[39;00m\n\u001b[0;32m     21\u001b[0m     puntaje \u001b[38;5;241m=\u001b[39m \u001b[38;5;241m0\u001b[39m  \u001b[38;5;66;03m# Inicializar el puntaje en 0\u001b[39;00m\n\u001b[0;32m     23\u001b[0m     \u001b[38;5;66;03m# Calcular el puntaje sumando los valores de las letras\u001b[39;00m\n",
      "File \u001b[1;32m~\\AppData\\Roaming\\Python\\Python313\\site-packages\\ipykernel\\kernelbase.py:1282\u001b[0m, in \u001b[0;36mKernel.raw_input\u001b[1;34m(self, prompt)\u001b[0m\n\u001b[0;32m   1280\u001b[0m     msg \u001b[38;5;241m=\u001b[39m \u001b[38;5;124m\"\u001b[39m\u001b[38;5;124mraw_input was called, but this frontend does not support input requests.\u001b[39m\u001b[38;5;124m\"\u001b[39m\n\u001b[0;32m   1281\u001b[0m     \u001b[38;5;28;01mraise\u001b[39;00m StdinNotImplementedError(msg)\n\u001b[1;32m-> 1282\u001b[0m \u001b[38;5;28;01mreturn\u001b[39;00m \u001b[38;5;28;43mself\u001b[39;49m\u001b[38;5;241;43m.\u001b[39;49m\u001b[43m_input_request\u001b[49m\u001b[43m(\u001b[49m\n\u001b[0;32m   1283\u001b[0m \u001b[43m    \u001b[49m\u001b[38;5;28;43mstr\u001b[39;49m\u001b[43m(\u001b[49m\u001b[43mprompt\u001b[49m\u001b[43m)\u001b[49m\u001b[43m,\u001b[49m\n\u001b[0;32m   1284\u001b[0m \u001b[43m    \u001b[49m\u001b[38;5;28;43mself\u001b[39;49m\u001b[38;5;241;43m.\u001b[39;49m\u001b[43m_parent_ident\u001b[49m\u001b[43m[\u001b[49m\u001b[38;5;124;43m\"\u001b[39;49m\u001b[38;5;124;43mshell\u001b[39;49m\u001b[38;5;124;43m\"\u001b[39;49m\u001b[43m]\u001b[49m\u001b[43m,\u001b[49m\n\u001b[0;32m   1285\u001b[0m \u001b[43m    \u001b[49m\u001b[38;5;28;43mself\u001b[39;49m\u001b[38;5;241;43m.\u001b[39;49m\u001b[43mget_parent\u001b[49m\u001b[43m(\u001b[49m\u001b[38;5;124;43m\"\u001b[39;49m\u001b[38;5;124;43mshell\u001b[39;49m\u001b[38;5;124;43m\"\u001b[39;49m\u001b[43m)\u001b[49m\u001b[43m,\u001b[49m\n\u001b[0;32m   1286\u001b[0m \u001b[43m    \u001b[49m\u001b[43mpassword\u001b[49m\u001b[38;5;241;43m=\u001b[39;49m\u001b[38;5;28;43;01mFalse\u001b[39;49;00m\u001b[43m,\u001b[49m\n\u001b[0;32m   1287\u001b[0m \u001b[43m\u001b[49m\u001b[43m)\u001b[49m\n",
      "File \u001b[1;32m~\\AppData\\Roaming\\Python\\Python313\\site-packages\\ipykernel\\kernelbase.py:1325\u001b[0m, in \u001b[0;36mKernel._input_request\u001b[1;34m(self, prompt, ident, parent, password)\u001b[0m\n\u001b[0;32m   1322\u001b[0m \u001b[38;5;28;01mexcept\u001b[39;00m \u001b[38;5;167;01mKeyboardInterrupt\u001b[39;00m:\n\u001b[0;32m   1323\u001b[0m     \u001b[38;5;66;03m# re-raise KeyboardInterrupt, to truncate traceback\u001b[39;00m\n\u001b[0;32m   1324\u001b[0m     msg \u001b[38;5;241m=\u001b[39m \u001b[38;5;124m\"\u001b[39m\u001b[38;5;124mInterrupted by user\u001b[39m\u001b[38;5;124m\"\u001b[39m\n\u001b[1;32m-> 1325\u001b[0m     \u001b[38;5;28;01mraise\u001b[39;00m \u001b[38;5;167;01mKeyboardInterrupt\u001b[39;00m(msg) \u001b[38;5;28;01mfrom\u001b[39;00m \u001b[38;5;28;01mNone\u001b[39;00m\n\u001b[0;32m   1326\u001b[0m \u001b[38;5;28;01mexcept\u001b[39;00m \u001b[38;5;167;01mException\u001b[39;00m:\n\u001b[0;32m   1327\u001b[0m     \u001b[38;5;28mself\u001b[39m\u001b[38;5;241m.\u001b[39mlog\u001b[38;5;241m.\u001b[39mwarning(\u001b[38;5;124m\"\u001b[39m\u001b[38;5;124mInvalid Message:\u001b[39m\u001b[38;5;124m\"\u001b[39m, exc_info\u001b[38;5;241m=\u001b[39m\u001b[38;5;28;01mTrue\u001b[39;00m)\n",
      "\u001b[1;31mKeyboardInterrupt\u001b[0m: Interrupted by user"
     ]
    }
   ],
   "source": [
    "# Diccionario con el valor de cada letra\n",
    "valores = {\n",
    "    'a': 1, 'b': 2, 'c': 3, 'd': 4, 'e': 5, 'f': 6, 'g': 7, 'h': 8, \n",
    "    'i': 9, 'j': 10, 'k': 11, 'l': 12, 'm': 13, 'n': 14, 'ñ': 15, \n",
    "    'o': 16, 'p': 17, 'q': 18, 'r': 19, 's': 20, 't': 21, 'u': 22, \n",
    "    'v': 23, 'w': 24, 'x': 25, 'y': 26, 'z': 27\n",
    "}\n",
    "\n",
    "print(\"Bienvenido al programa 'La Palabra de 100 Puntos'!\")\n",
    "print(\"Introduce palabras y calcula su puntaje\")\n",
    "print(\"El programa termina si introduces una palabra que sume exactamente 100 puntos.\")\n",
    "\n",
    "while True:\n",
    "    # Pedir al usuario que introduzca una palabra\n",
    "    palabra = input(\"Escribe una palabra: \").lower()  # Convertir a minúsculas\n",
    "    puntaje = 0  # Inicializar el puntaje en 0\n",
    "    \n",
    "    # Calcular el puntaje sumando los valores de las letras\n",
    "    for letra in palabra:\n",
    "        if letra in valores:  # Verificar si la letra tiene un valor\n",
    "            puntaje += valores[letra]\n",
    "        else:\n",
    "            print(f\"Advertencia: La letra '{letra}' no es válida y no se contará.\")\n",
    "\n",
    "    print(f\"La palabra '{palabra}' tiene un puntaje de {puntaje} puntos.\")\n",
    "\n",
    "    # Verificar si el puntaje es exactamente 100\n",
    "    if puntaje == 100:\n",
    "        print(\"¡Felicidades! Has logrado la palabra de 100 puntos. ¡Programa terminado!\")\n",
    "        break\n"
   ]
  }
 ],
 "metadata": {
  "kernelspec": {
   "display_name": "Python 3",
   "language": "python",
   "name": "python3"
  },
  "language_info": {
   "codemirror_mode": {
    "name": "ipython",
    "version": 3
   },
   "file_extension": ".py",
   "mimetype": "text/x-python",
   "name": "python",
   "nbconvert_exporter": "python",
   "pygments_lexer": "ipython3",
   "version": "3.13.0"
  }
 },
 "nbformat": 4,
 "nbformat_minor": 2
}
