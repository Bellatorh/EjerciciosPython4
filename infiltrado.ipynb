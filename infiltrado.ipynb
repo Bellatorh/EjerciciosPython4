{
 "cells": [
  {
   "cell_type": "code",
   "execution_count": null,
   "metadata": {},
   "outputs": [],
   "source": [
    "def encontrar_infiltrados(cadena1, cadena2):\n",
    "    \n",
    "    \"\"\"Encuentra los caracteres diferentes entre dos cadenas de texto.\n",
    "    cadena1 La primera cadena de texto.\n",
    "    cadena2 La segunda cadena de texto.\"\"\"\n",
    "    \n",
    "    # Inicializar la lista para los caracteres diferentes\n",
    "    infiltrados = []\n",
    "    \n",
    "    # Recorrer las cadenas comparando carácter por carácter\n",
    "    for i in range(len(cadena1)):\n",
    "        if cadena1[i] != cadena2[i]:  # Si los caracteres son diferentes\n",
    "            infiltrados.append(cadena2[i])  # Agregar el carácter infiltrado a la lista\n",
    "    \n",
    "    # Retornar la lista con los caracteres infiltrados\n",
    "    return infiltrados\n",
    "\n",
    "# Ejemplo de uso\n",
    "print(\"Comparación de cadenas para encontrar caracteres infiltrados.\")\n",
    "\n",
    "# Pedir las cadenas al usuario\n",
    "cadena1 = input(\"Ingresa la primera cadena: \")\n",
    "cadena2 = input(\"Ingresa la segunda cadena: \")\n",
    "\n",
    "# Verificar que las cadenas sean de la misma longitud\n",
    "if len(cadena1) != len(cadena2):\n",
    "    print(\"Error: Las cadenas deben tener la misma longitud.\")\n",
    "else:\n",
    "    # Llamar a la función y mostrar el resultado\n",
    "    resultado = encontrar_infiltrados(cadena1, cadena2)\n",
    "    print(f\"Los caracteres infiltrados son: {resultado}\")\n"
   ]
  }
 ],
 "metadata": {
  "language_info": {
   "name": "python"
  }
 },
 "nbformat": 4,
 "nbformat_minor": 2
}
